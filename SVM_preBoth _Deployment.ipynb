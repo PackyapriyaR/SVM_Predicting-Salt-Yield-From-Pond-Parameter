{
 "cells": [
  {
   "cell_type": "code",
   "execution_count": null,
   "id": "478eb05e-d585-440e-8b1f-c9866eab902b",
   "metadata": {},
   "outputs": [],
   "source": [
    "#-----Data Collection------#"
   ]
  },
  {
   "cell_type": "code",
   "execution_count": 1,
   "id": "4260bb11-f129-4d7a-bc39-b521e2a853f2",
   "metadata": {},
   "outputs": [],
   "source": [
    "import pandas as pd"
   ]
  },
  {
   "cell_type": "code",
   "execution_count": 2,
   "id": "d1e23d33-4689-4b09-9529-348ed6a7efc6",
   "metadata": {},
   "outputs": [],
   "source": [
    "import numpy"
   ]
  },
  {
   "cell_type": "code",
   "execution_count": 3,
   "id": "a9ca90dc-a8d6-4c2d-8d1e-4d5337dc885f",
   "metadata": {},
   "outputs": [],
   "source": [
    "import matplotlib.pyplot as plt"
   ]
  },
  {
   "cell_type": "code",
   "execution_count": 4,
   "id": "f5a3d439-4b58-452c-b54b-2ab97afea822",
   "metadata": {},
   "outputs": [],
   "source": [
    "dataset=pd.read_csv('salt_yield_dataset.csv')"
   ]
  },
  {
   "cell_type": "code",
   "execution_count": 5,
   "id": "7491eecc-c298-43ce-ab88-d4a65664e1ee",
   "metadata": {},
   "outputs": [],
   "source": [
    "dataset=pd.get_dummies(dataset,drop_first=True)"
   ]
  },
  {
   "cell_type": "code",
   "execution_count": 6,
   "id": "6f2259ca-38b5-4684-900a-2ec5bb3b674a",
   "metadata": {},
   "outputs": [
    {
     "data": {
      "text/html": [
       "<div>\n",
       "<style scoped>\n",
       "    .dataframe tbody tr th:only-of-type {\n",
       "        vertical-align: middle;\n",
       "    }\n",
       "\n",
       "    .dataframe tbody tr th {\n",
       "        vertical-align: top;\n",
       "    }\n",
       "\n",
       "    .dataframe thead th {\n",
       "        text-align: right;\n",
       "    }\n",
       "</style>\n",
       "<table border=\"1\" class=\"dataframe\">\n",
       "  <thead>\n",
       "    <tr style=\"text-align: right;\">\n",
       "      <th></th>\n",
       "      <th>Pond_Area_m2</th>\n",
       "      <th>Brine_Density_g_cc</th>\n",
       "      <th>Evaporation_Days</th>\n",
       "      <th>Avg_Temperature_C</th>\n",
       "      <th>Climate_Temp_Range_C</th>\n",
       "      <th>Solar_Irradiance_W_m2</th>\n",
       "      <th>Salt_Yield_tons</th>\n",
       "      <th>Crystallization_Method_Continuous</th>\n",
       "    </tr>\n",
       "  </thead>\n",
       "  <tbody>\n",
       "    <tr>\n",
       "      <th>0</th>\n",
       "      <td>2185.4</td>\n",
       "      <td>1.165</td>\n",
       "      <td>15.1</td>\n",
       "      <td>24.2</td>\n",
       "      <td>7.9</td>\n",
       "      <td>855.0</td>\n",
       "      <td>1.368</td>\n",
       "      <td>False</td>\n",
       "    </tr>\n",
       "    <tr>\n",
       "      <th>1</th>\n",
       "      <td>4778.2</td>\n",
       "      <td>1.208</td>\n",
       "      <td>18.4</td>\n",
       "      <td>20.5</td>\n",
       "      <td>7.2</td>\n",
       "      <td>414.8</td>\n",
       "      <td>2.438</td>\n",
       "      <td>False</td>\n",
       "    </tr>\n",
       "    <tr>\n",
       "      <th>2</th>\n",
       "      <td>3794.0</td>\n",
       "      <td>1.209</td>\n",
       "      <td>15.3</td>\n",
       "      <td>23.6</td>\n",
       "      <td>6.1</td>\n",
       "      <td>413.3</td>\n",
       "      <td>2.396</td>\n",
       "      <td>False</td>\n",
       "    </tr>\n",
       "    <tr>\n",
       "      <th>3</th>\n",
       "      <td>3194.0</td>\n",
       "      <td>1.217</td>\n",
       "      <td>12.7</td>\n",
       "      <td>31.7</td>\n",
       "      <td>10.8</td>\n",
       "      <td>594.2</td>\n",
       "      <td>2.467</td>\n",
       "      <td>False</td>\n",
       "    </tr>\n",
       "    <tr>\n",
       "      <th>4</th>\n",
       "      <td>1202.1</td>\n",
       "      <td>1.225</td>\n",
       "      <td>13.6</td>\n",
       "      <td>28.4</td>\n",
       "      <td>11.2</td>\n",
       "      <td>693.2</td>\n",
       "      <td>0.689</td>\n",
       "      <td>False</td>\n",
       "    </tr>\n",
       "    <tr>\n",
       "      <th>...</th>\n",
       "      <td>...</td>\n",
       "      <td>...</td>\n",
       "      <td>...</td>\n",
       "      <td>...</td>\n",
       "      <td>...</td>\n",
       "      <td>...</td>\n",
       "      <td>...</td>\n",
       "      <td>...</td>\n",
       "    </tr>\n",
       "    <tr>\n",
       "      <th>295</th>\n",
       "      <td>2850.1</td>\n",
       "      <td>1.203</td>\n",
       "      <td>16.1</td>\n",
       "      <td>37.4</td>\n",
       "      <td>14.1</td>\n",
       "      <td>800.9</td>\n",
       "      <td>2.486</td>\n",
       "      <td>False</td>\n",
       "    </tr>\n",
       "    <tr>\n",
       "      <th>296</th>\n",
       "      <td>3965.0</td>\n",
       "      <td>1.220</td>\n",
       "      <td>18.8</td>\n",
       "      <td>39.5</td>\n",
       "      <td>14.7</td>\n",
       "      <td>771.7</td>\n",
       "      <td>3.799</td>\n",
       "      <td>True</td>\n",
       "    </tr>\n",
       "    <tr>\n",
       "      <th>297</th>\n",
       "      <td>1471.2</td>\n",
       "      <td>1.176</td>\n",
       "      <td>36.9</td>\n",
       "      <td>39.4</td>\n",
       "      <td>13.2</td>\n",
       "      <td>678.1</td>\n",
       "      <td>1.219</td>\n",
       "      <td>False</td>\n",
       "    </tr>\n",
       "    <tr>\n",
       "      <th>298</th>\n",
       "      <td>3303.0</td>\n",
       "      <td>1.177</td>\n",
       "      <td>10.4</td>\n",
       "      <td>35.0</td>\n",
       "      <td>15.1</td>\n",
       "      <td>627.9</td>\n",
       "      <td>2.887</td>\n",
       "      <td>False</td>\n",
       "    </tr>\n",
       "    <tr>\n",
       "      <th>299</th>\n",
       "      <td>884.1</td>\n",
       "      <td>1.164</td>\n",
       "      <td>12.6</td>\n",
       "      <td>22.6</td>\n",
       "      <td>6.2</td>\n",
       "      <td>918.0</td>\n",
       "      <td>0.374</td>\n",
       "      <td>False</td>\n",
       "    </tr>\n",
       "  </tbody>\n",
       "</table>\n",
       "<p>300 rows × 8 columns</p>\n",
       "</div>"
      ],
      "text/plain": [
       "     Pond_Area_m2  Brine_Density_g_cc  Evaporation_Days  Avg_Temperature_C  \\\n",
       "0          2185.4               1.165              15.1               24.2   \n",
       "1          4778.2               1.208              18.4               20.5   \n",
       "2          3794.0               1.209              15.3               23.6   \n",
       "3          3194.0               1.217              12.7               31.7   \n",
       "4          1202.1               1.225              13.6               28.4   \n",
       "..            ...                 ...               ...                ...   \n",
       "295        2850.1               1.203              16.1               37.4   \n",
       "296        3965.0               1.220              18.8               39.5   \n",
       "297        1471.2               1.176              36.9               39.4   \n",
       "298        3303.0               1.177              10.4               35.0   \n",
       "299         884.1               1.164              12.6               22.6   \n",
       "\n",
       "     Climate_Temp_Range_C  Solar_Irradiance_W_m2  Salt_Yield_tons  \\\n",
       "0                     7.9                  855.0            1.368   \n",
       "1                     7.2                  414.8            2.438   \n",
       "2                     6.1                  413.3            2.396   \n",
       "3                    10.8                  594.2            2.467   \n",
       "4                    11.2                  693.2            0.689   \n",
       "..                    ...                    ...              ...   \n",
       "295                  14.1                  800.9            2.486   \n",
       "296                  14.7                  771.7            3.799   \n",
       "297                  13.2                  678.1            1.219   \n",
       "298                  15.1                  627.9            2.887   \n",
       "299                   6.2                  918.0            0.374   \n",
       "\n",
       "     Crystallization_Method_Continuous  \n",
       "0                                False  \n",
       "1                                False  \n",
       "2                                False  \n",
       "3                                False  \n",
       "4                                False  \n",
       "..                                 ...  \n",
       "295                              False  \n",
       "296                               True  \n",
       "297                              False  \n",
       "298                              False  \n",
       "299                              False  \n",
       "\n",
       "[300 rows x 8 columns]"
      ]
     },
     "execution_count": 6,
     "metadata": {},
     "output_type": "execute_result"
    }
   ],
   "source": [
    "dataset"
   ]
  },
  {
   "cell_type": "code",
   "execution_count": 7,
   "id": "97dc8b85-1b65-4b6e-8177-9e9ba43100b3",
   "metadata": {},
   "outputs": [
    {
     "data": {
      "text/plain": [
       "Index(['Pond_Area_m2', 'Brine_Density_g_cc', 'Evaporation_Days',\n",
       "       'Avg_Temperature_C', 'Climate_Temp_Range_C', 'Solar_Irradiance_W_m2',\n",
       "       'Salt_Yield_tons', 'Crystallization_Method_Continuous'],\n",
       "      dtype='object')"
      ]
     },
     "execution_count": 7,
     "metadata": {},
     "output_type": "execute_result"
    }
   ],
   "source": [
    "dataset.columns"
   ]
  },
  {
   "cell_type": "code",
   "execution_count": 8,
   "id": "889080da-6302-41a1-9c75-d36970497b8c",
   "metadata": {},
   "outputs": [],
   "source": [
    "dataset=dataset.astype(int)"
   ]
  },
  {
   "cell_type": "code",
   "execution_count": 9,
   "id": "b2e3fc05-3e6d-4def-b584-994139856a4c",
   "metadata": {},
   "outputs": [],
   "source": [
    "#------Input Output Split------#"
   ]
  },
  {
   "cell_type": "code",
   "execution_count": 10,
   "id": "22c0b839-72a5-452f-9d0b-518c9037aaa6",
   "metadata": {},
   "outputs": [],
   "source": [
    "independent=dataset[['Pond_Area_m2','Brine_Density_g_cc','Evaporation_Days','Avg_Temperature_C','Climate_Temp_Range_C',\n",
    "             'Solar_Irradiance_W_m2','Crystallization_Method_Continuous']]"
   ]
  },
  {
   "cell_type": "code",
   "execution_count": 12,
   "id": "6eafb8bf-7acc-4cf7-acf1-9862218f5309",
   "metadata": {},
   "outputs": [],
   "source": [
    "dependent=dataset[['Salt_Yield_tons']]"
   ]
  },
  {
   "cell_type": "code",
   "execution_count": 13,
   "id": "a1bf48ae-711b-4901-b7ff-482f6fc6a36b",
   "metadata": {},
   "outputs": [],
   "source": [
    "#------Train Test Split------------#"
   ]
  },
  {
   "cell_type": "code",
   "execution_count": 14,
   "id": "3f9ddedf-3a54-4f84-ad2c-e29f9a97ff7a",
   "metadata": {},
   "outputs": [],
   "source": [
    "from sklearn.model_selection import train_test_split"
   ]
  },
  {
   "cell_type": "code",
   "execution_count": 15,
   "id": "6b39c024-e12a-4c8d-92d1-66e5fc1fdee4",
   "metadata": {},
   "outputs": [],
   "source": [
    "X_train,X_test,y_train,y_test=train_test_split(independent,dependent,test_size=1/3,random_state=0)"
   ]
  },
  {
   "cell_type": "code",
   "execution_count": 16,
   "id": "97556f9d-e299-4e72-bfaa-322f7cf898df",
   "metadata": {},
   "outputs": [],
   "source": [
    "#------Standardization of Input and Output---------"
   ]
  },
  {
   "cell_type": "code",
   "execution_count": 17,
   "id": "4dbe7376-9246-4439-8610-85d3d99351b6",
   "metadata": {},
   "outputs": [],
   "source": [
    "from sklearn.preprocessing import StandardScaler"
   ]
  },
  {
   "cell_type": "code",
   "execution_count": 18,
   "id": "c4195485-2497-4e4b-9d04-5f168725f191",
   "metadata": {},
   "outputs": [],
   "source": [
    "sc=StandardScaler()"
   ]
  },
  {
   "cell_type": "code",
   "execution_count": 19,
   "id": "4b66088e-a3a5-41c4-85da-dab8fe993a1b",
   "metadata": {},
   "outputs": [],
   "source": [
    "X_train=sc.fit_transform(X_train)"
   ]
  },
  {
   "cell_type": "code",
   "execution_count": 20,
   "id": "96e184c1-e4f7-4672-8e2c-d863d671bed2",
   "metadata": {},
   "outputs": [],
   "source": [
    "X_test=sc.transform(X_test)"
   ]
  },
  {
   "cell_type": "code",
   "execution_count": 21,
   "id": "56b7987a-6fad-40ca-8e2e-14f7f85d7e11",
   "metadata": {},
   "outputs": [],
   "source": [
    "scy=StandardScaler()"
   ]
  },
  {
   "cell_type": "code",
   "execution_count": 22,
   "id": "f9e5f985-3f86-4ebe-88bc-70e9d7825840",
   "metadata": {},
   "outputs": [],
   "source": [
    "y_train=scy.fit_transform(y_train)"
   ]
  },
  {
   "cell_type": "code",
   "execution_count": 23,
   "id": "4d902b81-18eb-4616-b1b8-b6d86088d48d",
   "metadata": {},
   "outputs": [],
   "source": [
    "y_test=scy.transform(y_test)"
   ]
  },
  {
   "cell_type": "code",
   "execution_count": 24,
   "id": "487415f4-0475-4324-8063-32b2e33f760c",
   "metadata": {},
   "outputs": [],
   "source": [
    "#------Model Creation-----#"
   ]
  },
  {
   "cell_type": "code",
   "execution_count": 25,
   "id": "4e496e76-b3a2-4251-965d-c42dd3463ada",
   "metadata": {},
   "outputs": [],
   "source": [
    "import pickle"
   ]
  },
  {
   "cell_type": "code",
   "execution_count": 26,
   "id": "241268fa-7897-4d1e-9ef7-ffb285e0b583",
   "metadata": {},
   "outputs": [
    {
     "name": "stderr",
     "output_type": "stream",
     "text": [
      "C:\\Users\\rampr\\anaconda3\\Lib\\site-packages\\sklearn\\utils\\validation.py:2739: UserWarning: X does not have valid feature names, but StandardScaler was fitted with feature names\n",
      "  warnings.warn(\n"
     ]
    }
   ],
   "source": [
    "preinput=sc.transform([[1000,10,10,10,10,10,0]])"
   ]
  },
  {
   "cell_type": "code",
   "execution_count": 27,
   "id": "101b3d9d-604e-4a30-94a2-ba131e4c1a70",
   "metadata": {},
   "outputs": [
    {
     "data": {
      "text/plain": [
       "array([[-1.35446202,  9.        , -1.6595696 , -3.27739518, -0.094437  ,\n",
       "        -3.88308705, -0.81649658]])"
      ]
     },
     "execution_count": 27,
     "metadata": {},
     "output_type": "execute_result"
    }
   ],
   "source": [
    "preinput"
   ]
  },
  {
   "cell_type": "code",
   "execution_count": 28,
   "id": "6e34e0a6-fa14-470d-9b88-6710a989ecc1",
   "metadata": {},
   "outputs": [],
   "source": [
    "#------check result before deployment-------"
   ]
  },
  {
   "cell_type": "code",
   "execution_count": 29,
   "id": "517f14ed-cf6f-4996-a50d-5846006c5d55",
   "metadata": {},
   "outputs": [],
   "source": [
    "loaded_model=pickle.load(open(\"final_preboth_svm.sav\",'rb'))"
   ]
  },
  {
   "cell_type": "code",
   "execution_count": 30,
   "id": "ab7ae151-ac32-48f2-bc11-c670fe3bd07f",
   "metadata": {},
   "outputs": [],
   "source": [
    "result=loaded_model.predict(preinput)"
   ]
  },
  {
   "cell_type": "code",
   "execution_count": 31,
   "id": "1f3c332f-ace5-453a-86e3-aa5af63047eb",
   "metadata": {},
   "outputs": [
    {
     "data": {
      "text/plain": [
       "array([-1.94655033])"
      ]
     },
     "execution_count": 31,
     "metadata": {},
     "output_type": "execute_result"
    }
   ],
   "source": [
    "result"
   ]
  },
  {
   "cell_type": "code",
   "execution_count": 32,
   "id": "1fa87540-6dfb-41d6-869c-528753d7b7d1",
   "metadata": {},
   "outputs": [],
   "source": [
    "preoutput=scy.inverse_transform([result])"
   ]
  },
  {
   "cell_type": "code",
   "execution_count": 33,
   "id": "57effe0c-c511-442a-b509-6d3059897cc7",
   "metadata": {},
   "outputs": [
    {
     "data": {
      "text/plain": [
       "array([[-0.68707674]])"
      ]
     },
     "execution_count": 33,
     "metadata": {},
     "output_type": "execute_result"
    }
   ],
   "source": [
    "preoutput"
   ]
  },
  {
   "cell_type": "code",
   "execution_count": null,
   "id": "baebecf3-7803-4abc-b66e-4a6f8adf35c7",
   "metadata": {},
   "outputs": [],
   "source": []
  }
 ],
 "metadata": {
  "kernelspec": {
   "display_name": "Python [conda env:base] *",
   "language": "python",
   "name": "conda-base-py"
  },
  "language_info": {
   "codemirror_mode": {
    "name": "ipython",
    "version": 3
   },
   "file_extension": ".py",
   "mimetype": "text/x-python",
   "name": "python",
   "nbconvert_exporter": "python",
   "pygments_lexer": "ipython3",
   "version": "3.13.5"
  }
 },
 "nbformat": 4,
 "nbformat_minor": 5
}
